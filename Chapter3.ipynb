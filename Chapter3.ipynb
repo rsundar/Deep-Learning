{
  "nbformat": 4,
  "nbformat_minor": 0,
  "metadata": {
    "colab": {
      "name": "Chapter3.ipynb",
      "provenance": [],
      "include_colab_link": true
    },
    "kernelspec": {
      "name": "python3",
      "display_name": "Python 3"
    }
  },
  "cells": [
    {
      "cell_type": "markdown",
      "metadata": {
        "id": "view-in-github",
        "colab_type": "text"
      },
      "source": [
        "<a href=\"https://colab.research.google.com/github/rsundar/Deep-Learning/blob/master/Chapter3.ipynb\" target=\"_parent\"><img src=\"https://colab.research.google.com/assets/colab-badge.svg\" alt=\"Open In Colab\"/></a>"
      ]
    },
    {
      "cell_type": "code",
      "metadata": {
        "id": "m5CZgu5ja5Te",
        "colab_type": "code",
        "colab": {}
      },
      "source": [
        "import numpy as np"
      ],
      "execution_count": 0,
      "outputs": []
    },
    {
      "cell_type": "code",
      "metadata": {
        "id": "Z8olrs3AcJbw",
        "colab_type": "code",
        "colab": {
          "base_uri": "https://localhost:8080/",
          "height": 34
        },
        "outputId": "bfea0499-ecce-4675-e20d-3900128bd4ee"
      },
      "source": [
        "# Simplest Possible Neural Network\n",
        "\n",
        "weight = 0.1\n",
        "\n",
        "def neural_network(input, weight):\n",
        "  prediction = input * weight\n",
        "  return prediction\n",
        "\n",
        "# Running the network\n",
        "\n",
        "number_of_toes = [8.5, 9.5, 10, 9]\n",
        "\n",
        "input = number_of_toes[0]\n",
        "pred = neural_network(input, weight)\n",
        "print(pred)"
      ],
      "execution_count": 4,
      "outputs": [
        {
          "output_type": "stream",
          "text": [
            "0.8500000000000001\n"
          ],
          "name": "stdout"
        }
      ]
    },
    {
      "cell_type": "markdown",
      "metadata": {
        "id": "2VfvrrxCejhf",
        "colab_type": "text"
      },
      "source": [
        "## Making predictions with multiple inputs\n"
      ]
    },
    {
      "cell_type": "code",
      "metadata": {
        "id": "088gjOKmexMu",
        "colab_type": "code",
        "colab": {
          "base_uri": "https://localhost:8080/",
          "height": 34
        },
        "outputId": "db093aa7-51a1-403e-ceaf-127fb93fe33f"
      },
      "source": [
        "weights = [0.1,0.2,0]\n",
        "\n",
        "# We now need to performa weighted sum.\n",
        "\n",
        "def w_sum(input,weights):\n",
        "  w = 0\n",
        "  assert(len(input)==len(weights))\n",
        "  for i in range(len(input)):\n",
        "    w += input[i]*weights[i]\n",
        "  return w\n",
        "\n",
        "def neural_network(input,weights):\n",
        "  pred = w_sum(input,weights)\n",
        "  return pred\n",
        "\n",
        "# Setting up the input matrix\n",
        "toes = [8.5,9.5,9.9,9.0]\n",
        "win_loss = [0.65, 0.8, 0.8, 0.9]\n",
        "nfans = [1.2,1.3,0.5,1.0]\n",
        "\n",
        "input = [toes[0],win_loss[0],nfans[0]]\n",
        "\n",
        "pred = neural_network(input,weights)\n",
        "\n",
        "print(pred)"
      ],
      "execution_count": 6,
      "outputs": [
        {
          "output_type": "stream",
          "text": [
            "0.9800000000000001\n"
          ],
          "name": "stdout"
        }
      ]
    },
    {
      "cell_type": "markdown",
      "metadata": {
        "id": "3sMKnmp_hPNI",
        "colab_type": "text"
      },
      "source": [
        "## Challenge Problems"
      ]
    },
    {
      "cell_type": "code",
      "metadata": {
        "id": "VqonYKeGhXPA",
        "colab_type": "code",
        "colab": {
          "base_uri": "https://localhost:8080/",
          "height": 85
        },
        "outputId": "fd89b1d3-7a63-4143-cec7-403f4206e90e"
      },
      "source": [
        "def elementwise_addition(input,b):\n",
        "  sum = []\n",
        "  for i in range(len(a)):\n",
        "    sum.append(input + b[i])\n",
        "\n",
        "  return sum\n",
        "\n",
        "def elementwise_multiplication(input,b):\n",
        "  mul = []\n",
        "  for i in range(len(a)):\n",
        "    mul.append(input * b[i])\n",
        "  return mul\n",
        "\n",
        "def vector_sum(a,b):\n",
        "  assert(len(a)==len(b))\n",
        "  out = []\n",
        "  for i in range(len(a)):\n",
        "    out.append(a[i] + b[i])\n",
        "  return out\n",
        "\n",
        "def vector_multiply(a,b):\n",
        "  assert(len(a)==len(b))\n",
        "  out = []\n",
        "  for i in range(len(a)):\n",
        "    out.append(a[i] * b[i])\n",
        "  return out\n",
        "\n",
        "input = 1\n",
        "a = [1,2,3]\n",
        "b = [3,4,5]\n",
        "\n",
        "print(elementwise_addition(input,a))\n",
        "print(elementwise_multiplication(input,b))\n",
        "print(vector_sum(a,b))\n",
        "print(vector_multiply(a,b))"
      ],
      "execution_count": 10,
      "outputs": [
        {
          "output_type": "stream",
          "text": [
            "[2, 3, 4]\n",
            "[3, 4, 5]\n",
            "[4, 6, 8]\n",
            "[3, 8, 15]\n"
          ],
          "name": "stdout"
        }
      ]
    }
  ]
}