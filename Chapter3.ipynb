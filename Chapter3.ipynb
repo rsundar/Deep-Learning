{
  "nbformat": 4,
  "nbformat_minor": 0,
  "metadata": {
    "colab": {
      "name": "Chapter3.ipynb",
      "provenance": [],
      "collapsed_sections": [],
      "include_colab_link": true
    },
    "kernelspec": {
      "name": "python3",
      "display_name": "Python 3"
    }
  },
  "cells": [
    {
      "cell_type": "markdown",
      "metadata": {
        "id": "view-in-github",
        "colab_type": "text"
      },
      "source": [
        "<a href=\"https://colab.research.google.com/github/rsundar/Deep-Learning/blob/master/Chapter3.ipynb\" target=\"_parent\"><img src=\"https://colab.research.google.com/assets/colab-badge.svg\" alt=\"Open In Colab\"/></a>"
      ]
    },
    {
      "cell_type": "code",
      "metadata": {
        "id": "m5CZgu5ja5Te",
        "colab_type": "code",
        "colab": {}
      },
      "source": [
        "import numpy as np"
      ],
      "execution_count": 0,
      "outputs": []
    },
    {
      "cell_type": "code",
      "metadata": {
        "id": "Z8olrs3AcJbw",
        "colab_type": "code",
        "outputId": "4c1a189e-5b63-4b47-dede-d4557eb7d741",
        "colab": {
          "base_uri": "https://localhost:8080/",
          "height": 34
        }
      },
      "source": [
        "# Simplest Possible Neural Network\n",
        "\n",
        "weight = 0.1\n",
        "\n",
        "def neural_network(input, weight):\n",
        "  prediction = input * weight\n",
        "  return prediction\n",
        "\n",
        "# Running the network\n",
        "\n",
        "number_of_toes = [8.5, 9.5, 10, 9]\n",
        "\n",
        "input = number_of_toes[0]\n",
        "pred = neural_network(input, weight)\n",
        "print(pred)"
      ],
      "execution_count": 2,
      "outputs": [
        {
          "output_type": "stream",
          "text": [
            "0.8500000000000001\n"
          ],
          "name": "stdout"
        }
      ]
    },
    {
      "cell_type": "markdown",
      "metadata": {
        "id": "2VfvrrxCejhf",
        "colab_type": "text"
      },
      "source": [
        "## Making predictions with multiple inputs\n"
      ]
    },
    {
      "cell_type": "code",
      "metadata": {
        "id": "088gjOKmexMu",
        "colab_type": "code",
        "outputId": "6d500281-b4f6-4a7c-e706-4eccbdbec901",
        "colab": {
          "base_uri": "https://localhost:8080/",
          "height": 34
        }
      },
      "source": [
        "weights = [0.1,0.2,0]\n",
        "\n",
        "# We now need to perform a weighted sum.\n",
        "\n",
        "def w_sum(input,weights):\n",
        "  w = 0\n",
        "  assert(len(input)==len(weights))\n",
        "  for i in range(len(input)):\n",
        "    w += input[i]*weights[i]\n",
        "  return w\n",
        "\n",
        "def neural_network(input,weights):\n",
        "  pred = w_sum(input,weights)\n",
        "  return pred\n",
        "\n",
        "# Setting up the input matrix\n",
        "toes = [8.5,9.5,9.9,9.0]\n",
        "win_loss = [0.65, 0.8, 0.8, 0.9]\n",
        "nfans = [1.2,1.3,0.5,1.0]\n",
        "\n",
        "input = [toes[0],win_loss[0],nfans[0]]\n",
        "\n",
        "pred = neural_network(input,weights)\n",
        "\n",
        "print(pred)"
      ],
      "execution_count": 3,
      "outputs": [
        {
          "output_type": "stream",
          "text": [
            "0.9800000000000001\n"
          ],
          "name": "stdout"
        }
      ]
    },
    {
      "cell_type": "markdown",
      "metadata": {
        "id": "3sMKnmp_hPNI",
        "colab_type": "text"
      },
      "source": [
        "## Challenge Problems"
      ]
    },
    {
      "cell_type": "code",
      "metadata": {
        "id": "VqonYKeGhXPA",
        "colab_type": "code",
        "outputId": "b8dc641d-4b33-4fdb-b9ab-c8a7d52a45db",
        "colab": {
          "base_uri": "https://localhost:8080/",
          "height": 119
        }
      },
      "source": [
        "def elementwise_addition(input,b):\n",
        "  sum = []\n",
        "  for i in range(len(a)):\n",
        "    sum.append(input + b[i])\n",
        "\n",
        "  return sum\n",
        "\n",
        "def elementwise_multiplication(a,b):\n",
        "  mul = []\n",
        "  assert(len(a)==len(b))\n",
        "  for i in range(len(a)):\n",
        "    mul.append(int(a[i] * b[i]))\n",
        "  return mul\n",
        "\n",
        "def vector_sum(a):\n",
        "  assert(len(a)==len(b))\n",
        "  sum = 0\n",
        "  for i in range(len(a)):\n",
        "    sum += a[i]\n",
        "  return sum\n",
        "\n",
        "def vector_multiply(a,b):\n",
        "  assert(len(a)==len(b))\n",
        "  out = []\n",
        "  for i in range(len(a)):\n",
        "    out.append(a[i] * b[i])\n",
        "  return out\n",
        "\n",
        "input = 1\n",
        "a = [1,2,3]\n",
        "b = [3,4,5]\n",
        "\n",
        "print(elementwise_addition(input,a))\n",
        "print(elementwise_multiplication(a,b))\n",
        "print(vector_sum(a))\n",
        "print(vector_multiply(a,b))\n",
        "i = elementwise_multiplication(a,b)\n",
        "dot_product = vector_sum(i)\n",
        "print(dot_product)\n",
        "print(np.dot(a,b))"
      ],
      "execution_count": 4,
      "outputs": [
        {
          "output_type": "stream",
          "text": [
            "[2, 3, 4]\n",
            "[3, 8, 15]\n",
            "6\n",
            "[3, 8, 15]\n",
            "26\n",
            "26\n"
          ],
          "name": "stdout"
        }
      ]
    },
    {
      "cell_type": "code",
      "metadata": {
        "id": "_NTqCE7fBCOC",
        "colab_type": "code",
        "colab": {
          "base_uri": "https://localhost:8080/",
          "height": 34
        },
        "outputId": "f88e16a9-5c3e-46fa-ae76-e2a0de2adafc"
      },
      "source": [
        "def w_sum(a,b):\n",
        "\n",
        "  assert(len(a)==len(b))\n",
        "\n",
        "  output = 0\n",
        "\n",
        "  for i in range(len(a)):\n",
        "    output += (a[i] * b[i])\n",
        "\n",
        "  return output\n",
        "\n",
        "weights = [0.1, 0.2, 0]\n",
        "\n",
        "def neural_network(input, weights):\n",
        "\n",
        "  pred = w_sum(input,weights)\n",
        "\n",
        "  return pred\n",
        "\n",
        "toes = [8.5, 9.5, 9.9, 9.0]\n",
        "wlrec = [0.65, 0.8, 0.8, 0.9]\n",
        "nfans = [1.2, 1.3, 0.5, 1.0]\n",
        "\n",
        "\n",
        "input = [toes[0],wlrec[0],nfans[0]]\n",
        "pred = neural_network(input,weights)\n",
        "print(pred)"
      ],
      "execution_count": 5,
      "outputs": [
        {
          "output_type": "stream",
          "text": [
            "0.9800000000000001\n"
          ],
          "name": "stdout"
        }
      ]
    },
    {
      "cell_type": "markdown",
      "metadata": {
        "id": "TBd3HghMFTSh",
        "colab_type": "text"
      },
      "source": [
        "# Numpy version"
      ]
    },
    {
      "cell_type": "code",
      "metadata": {
        "id": "iawQQZMdFWzl",
        "colab_type": "code",
        "colab": {
          "base_uri": "https://localhost:8080/",
          "height": 34
        },
        "outputId": "7ebb7a1d-b1b6-4fb9-8af3-0df1c9439cda"
      },
      "source": [
        "weights = np.array([0.1, 0.2, 0])\n",
        "\n",
        "def neural_network(input, weights):\n",
        "\n",
        "  pred = input.dot(weights)\n",
        "\n",
        "  return pred\n",
        "\n",
        "toes = np.array([8.5, 9.5, 9.9, 9.0])\n",
        "wlrec = np.array([0.65, 0.8, 0.8, 0.9])\n",
        "nfans = np.array([1.2, 1.3, 0.5, 1.0])\n",
        "\n",
        "input = np.array([toes[0], wlrec[0], nfans[0]])\n",
        "\n",
        "print(neural_network(input,weights))"
      ],
      "execution_count": 6,
      "outputs": [
        {
          "output_type": "stream",
          "text": [
            "0.9800000000000001\n"
          ],
          "name": "stdout"
        }
      ]
    },
    {
      "cell_type": "code",
      "metadata": {
        "id": "NKLJ0SekFPOk",
        "colab_type": "code",
        "colab": {
          "base_uri": "https://localhost:8080/",
          "height": 34
        },
        "outputId": "6094a815-854f-426e-ece3-560fe775a30d"
      },
      "source": [
        "def ele_multiply(number, vector):\n",
        "\n",
        "  output = [0, 0, 0]\n",
        "\n",
        "  assert(len(output) == len(vector))\n",
        "\n",
        "  for i in range(len(vector)):\n",
        "    output[i] = number * vector[i]\n",
        "\n",
        "  return output\n",
        "\n",
        "weights = [0.3, 0.2, 0.9]\n",
        "input = wlrec[0]\n",
        "\n",
        "def neural_network(input, weights):\n",
        "\n",
        "  pred = ele_multiply(input, weights)\n",
        "\n",
        "  return pred\n",
        "\n",
        "print(neural_network(input, weights))"
      ],
      "execution_count": 7,
      "outputs": [
        {
          "output_type": "stream",
          "text": [
            "[0.195, 0.13, 0.5850000000000001]\n"
          ],
          "name": "stdout"
        }
      ]
    },
    {
      "cell_type": "markdown",
      "metadata": {
        "id": "5p_P5xcnMo2L",
        "colab_type": "text"
      },
      "source": [
        "# Predicting with Multiple Inputs and Multiple Outputs"
      ]
    },
    {
      "cell_type": "code",
      "metadata": {
        "id": "RDbUYCc2MnbK",
        "colab_type": "code",
        "colab": {
          "base_uri": "https://localhost:8080/",
          "height": 34
        },
        "outputId": "51a73bf8-012d-4a61-ef1c-e9d5fd2032ba"
      },
      "source": [
        " weights = [ [0.1, 0.1, -0.3],\n",
        "             [0.1, 0.2, 0.0],\n",
        "             [0.0, 1.3, 0.1] ]\n",
        "\n",
        "toes =  [8.5, 9.5, 9.9, 9.0]\n",
        "wlrec = [0.65,0.8, 0.8, 0.9]\n",
        "nfans = [1.2, 1.3, 0.5, 1.0]\n",
        "\n",
        "def w_sum(a,b):\n",
        "  w = 0\n",
        "  assert(len(a)==len(b))\n",
        "  for i in range(len(a)):\n",
        "    w += a[i]*b[i]\n",
        "  return w\n",
        "\n",
        "def vec_mat_mul(vector, weights):\n",
        "\n",
        "  assert (len(vector) == len(weights))\n",
        "  output = [0,0,0]\n",
        "  for i in range(len(vector)):\n",
        "    output[i] = w_sum(vector,weights[i])\n",
        "  return output\n",
        "\n",
        "def neural_network(input, weights):\n",
        "    pred = vec_mat_mul(input,weights)\n",
        "    return pred\n",
        "\n",
        "input = [toes[0],wlrec[0],nfans[0]]\n",
        "print(neural_network(input,weights))\n"
      ],
      "execution_count": 8,
      "outputs": [
        {
          "output_type": "stream",
          "text": [
            "[0.555, 0.9800000000000001, 0.9650000000000001]\n"
          ],
          "name": "stdout"
        }
      ]
    },
    {
      "cell_type": "markdown",
      "metadata": {
        "id": "VuMkVpWeItZ2",
        "colab_type": "text"
      },
      "source": [
        "# Stacking Neural Networks"
      ]
    },
    {
      "cell_type": "code",
      "metadata": {
        "id": "LhY0H2yJZV-S",
        "colab_type": "code",
        "colab": {
          "base_uri": "https://localhost:8080/",
          "height": 34
        },
        "outputId": "05a2086e-a6ad-4d8a-c2e7-e2c23aae8cf6"
      },
      "source": [
        "ih_wgt = [ [0.1, 0.2, -0.1],\n",
        "           [-0.1, 0.1, 0.9],\n",
        "           [0.1, 0.1, 0.4] ]\n",
        "\n",
        "hp_wgt = [ [0.3, 1.1, -0.3],\n",
        "           [0.1, 0.2, 0.0],\n",
        "           [0.0, 1.3, 0.1] ]\n",
        "\n",
        "weights = [ih_wgt, hp_wgt]\n",
        "\n",
        "def neural_network(input, weights):\n",
        "  hid = vec_mat_mul(input, weights[0])\n",
        "  pred = vec_mat_mul(hid, weights[1])\n",
        "  return pred\n",
        "\n",
        "pred = neural_network(input, weights)\n",
        "\n",
        "print(\"Stacked neural network predictions:\", pred)"
      ],
      "execution_count": 9,
      "outputs": [
        {
          "output_type": "stream",
          "text": [
            "Stacked neural network predictions: [0.16400000000000003, 0.14500000000000002, 0.5229999999999999]\n"
          ],
          "name": "stdout"
        }
      ]
    }
  ]
}